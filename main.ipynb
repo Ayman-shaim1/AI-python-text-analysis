{
  "cells": [
    {
      "cell_type": "code",
      "execution_count": 1,
      "metadata": {
        "id": "wcSAbd-9rwSt"
      },
      "outputs": [],
      "source": [
        "# DataFrame\n",
        "import pandas as pd\n",
        "\n",
        "# Matplot\n",
        "import matplotlib.pyplot as plt\n",
        "%matplotlib inline\n",
        "\n",
        "# Scikit-learn\n",
        "from sklearn.model_selection import train_test_split\n",
        "from sklearn.preprocessing import LabelEncoder\n",
        "from sklearn.metrics import confusion_matrix, classification_report, accuracy_score\n",
        "from sklearn.manifold import TSNE\n",
        "from sklearn.feature_extraction.text import TfidfVectorizer\n",
        "\n",
        "# Keras\n",
        "# from keras.preprocessing.text import Tokenizer\n",
        "# from keras.preprocessing.sequence import pad_sequences\n",
        "# from keras.models import Sequential\n",
        "# from keras.layers import Activation, Dense, Dropout, Embedding, Flatten, Conv1D, MaxPooling1D, LSTM\n",
        "# from keras import utils\n",
        "# from keras.callbacks import ReduceLROnPlateau, EarlyStopping\n",
        "\n",
        "\n",
        "# Keras (via TensorFlow)\n",
        "from tensorflow.keras.preprocessing.text import Tokenizer\n",
        "from tensorflow.keras.preprocessing.sequence import pad_sequences\n",
        "from tensorflow.keras.models import Sequential\n",
        "from tensorflow.keras.layers import Activation, Dense, Dropout, Embedding, Flatten, Conv1D,LSTM\n",
        "\n",
        "# from tensorflow.keras import utils\n",
        "from tensorflow.keras.callbacks import ReduceLROnPlateau, EarlyStopping\n",
        "\n",
        "\n",
        "\n",
        "\n",
        "# Word2vec\n",
        "import gensim\n",
        "\n",
        "# Utility\n",
        "import re\n",
        "import numpy as np\n",
        "import os\n",
        "from collections import Counter\n",
        "import logging\n",
        "import time\n",
        "import pickle\n",
        "import itertools\n",
        "\n",
        "# Set log\n",
        "logging.basicConfig(format='%(asctime)s : %(levelname)s : %(message)s', level=logging.INFO)"
      ]
    },
    {
      "cell_type": "code",
      "execution_count": 2,
      "metadata": {
        "id": "rjKVMPdxrwSu"
      },
      "outputs": [
        {
          "name": "stderr",
          "output_type": "stream",
          "text": [
            "<>:7: SyntaxWarning: invalid escape sequence '\\S'\n",
            "<>:7: SyntaxWarning: invalid escape sequence '\\S'\n",
            "/var/folders/8b/_wrd0j755cj_xgf04tprxq000000gn/T/ipykernel_25401/2591407858.py:7: SyntaxWarning: invalid escape sequence '\\S'\n",
            "  TEXT_CLEANING_RE = \"@\\S+|https?:\\S+|http?:\\S|[^A-Za-z0-9]+\"\n"
          ]
        }
      ],
      "source": [
        "# DATASET\n",
        "DATASET_COLUMNS = [\"target\", \"ids\", \"date\", \"flag\", \"user\", \"text\"]\n",
        "DATASET_ENCODING = \"ISO-8859-1\"\n",
        "TRAIN_SIZE = 0.8\n",
        "\n",
        "# TEXT CLENAING\n",
        "TEXT_CLEANING_RE = \"@\\S+|https?:\\S+|http?:\\S|[^A-Za-z0-9]+\"\n",
        "\n",
        "# WORD2VEC\n",
        "W2V_SIZE = 300\n",
        "W2V_WINDOW = 7\n",
        "W2V_EPOCH = 32\n",
        "W2V_MIN_COUNT = 10\n",
        "\n",
        "# KERAS\n",
        "SEQUENCE_LENGTH = 300\n",
        "EPOCHS = 8\n",
        "BATCH_SIZE = 1024\n",
        "\n",
        "# SENTIMENT\n",
        "POSITIVE = \"POSITIVE\"\n",
        "NEGATIVE = \"NEGATIVE\"\n",
        "NEUTRAL = \"NEUTRAL\"\n",
        "SENTIMENT_THRESHOLDS = (0.4, 0.7)\n",
        "\n",
        "# EXPORT\n",
        "KERAS_MODEL = \"model.h5\"\n",
        "WORD2VEC_MODEL = \"model.w2v\"\n",
        "TOKENIZER_MODEL = \"tokenizer.pkl\"\n",
        "ENCODER_MODEL = \"encoder.pkl\"\n"
      ]
    },
    {
      "cell_type": "code",
      "execution_count": 3,
      "metadata": {
        "id": "vANtqtENrwSu"
      },
      "outputs": [],
      "source": [
        "df = pd.read_csv(\"data/tweets_data.csv\", encoding =DATASET_ENCODING , names=DATASET_COLUMNS)"
      ]
    },
    {
      "cell_type": "code",
      "execution_count": 4,
      "metadata": {
        "colab": {
          "base_uri": "https://localhost:8080/"
        },
        "id": "bF1uBXAyrwSv",
        "outputId": "fe19cabc-0813-4438-885d-cd24459eb890"
      },
      "outputs": [
        {
          "name": "stdout",
          "output_type": "stream",
          "text": [
            "Dataset size: 1600000\n"
          ]
        }
      ],
      "source": [
        "print(\"Dataset size:\", len(df))"
      ]
    },
    {
      "cell_type": "code",
      "execution_count": 5,
      "metadata": {
        "colab": {
          "base_uri": "https://localhost:8080/",
          "height": 206
        },
        "id": "UFb-DL4XrwSv",
        "outputId": "f3cf5a5c-668b-4b3a-a46a-8a70597080dc"
      },
      "outputs": [
        {
          "data": {
            "text/html": [
              "<div>\n",
              "<style scoped>\n",
              "    .dataframe tbody tr th:only-of-type {\n",
              "        vertical-align: middle;\n",
              "    }\n",
              "\n",
              "    .dataframe tbody tr th {\n",
              "        vertical-align: top;\n",
              "    }\n",
              "\n",
              "    .dataframe thead th {\n",
              "        text-align: right;\n",
              "    }\n",
              "</style>\n",
              "<table border=\"1\" class=\"dataframe\">\n",
              "  <thead>\n",
              "    <tr style=\"text-align: right;\">\n",
              "      <th></th>\n",
              "      <th>target</th>\n",
              "      <th>ids</th>\n",
              "      <th>date</th>\n",
              "      <th>flag</th>\n",
              "      <th>user</th>\n",
              "      <th>text</th>\n",
              "    </tr>\n",
              "  </thead>\n",
              "  <tbody>\n",
              "    <tr>\n",
              "      <th>0</th>\n",
              "      <td>0</td>\n",
              "      <td>1467810369</td>\n",
              "      <td>Mon Apr 06 22:19:45 PDT 2009</td>\n",
              "      <td>NO_QUERY</td>\n",
              "      <td>_TheSpecialOne_</td>\n",
              "      <td>@switchfoot http://twitpic.com/2y1zl - Awww, t...</td>\n",
              "    </tr>\n",
              "    <tr>\n",
              "      <th>1</th>\n",
              "      <td>0</td>\n",
              "      <td>1467810672</td>\n",
              "      <td>Mon Apr 06 22:19:49 PDT 2009</td>\n",
              "      <td>NO_QUERY</td>\n",
              "      <td>scotthamilton</td>\n",
              "      <td>is upset that he can't update his Facebook by ...</td>\n",
              "    </tr>\n",
              "    <tr>\n",
              "      <th>2</th>\n",
              "      <td>0</td>\n",
              "      <td>1467810917</td>\n",
              "      <td>Mon Apr 06 22:19:53 PDT 2009</td>\n",
              "      <td>NO_QUERY</td>\n",
              "      <td>mattycus</td>\n",
              "      <td>@Kenichan I dived many times for the ball. Man...</td>\n",
              "    </tr>\n",
              "    <tr>\n",
              "      <th>3</th>\n",
              "      <td>0</td>\n",
              "      <td>1467811184</td>\n",
              "      <td>Mon Apr 06 22:19:57 PDT 2009</td>\n",
              "      <td>NO_QUERY</td>\n",
              "      <td>ElleCTF</td>\n",
              "      <td>my whole body feels itchy and like its on fire</td>\n",
              "    </tr>\n",
              "    <tr>\n",
              "      <th>4</th>\n",
              "      <td>0</td>\n",
              "      <td>1467811193</td>\n",
              "      <td>Mon Apr 06 22:19:57 PDT 2009</td>\n",
              "      <td>NO_QUERY</td>\n",
              "      <td>Karoli</td>\n",
              "      <td>@nationwideclass no, it's not behaving at all....</td>\n",
              "    </tr>\n",
              "  </tbody>\n",
              "</table>\n",
              "</div>"
            ],
            "text/plain": [
              "   target         ids                          date      flag  \\\n",
              "0       0  1467810369  Mon Apr 06 22:19:45 PDT 2009  NO_QUERY   \n",
              "1       0  1467810672  Mon Apr 06 22:19:49 PDT 2009  NO_QUERY   \n",
              "2       0  1467810917  Mon Apr 06 22:19:53 PDT 2009  NO_QUERY   \n",
              "3       0  1467811184  Mon Apr 06 22:19:57 PDT 2009  NO_QUERY   \n",
              "4       0  1467811193  Mon Apr 06 22:19:57 PDT 2009  NO_QUERY   \n",
              "\n",
              "              user                                               text  \n",
              "0  _TheSpecialOne_  @switchfoot http://twitpic.com/2y1zl - Awww, t...  \n",
              "1    scotthamilton  is upset that he can't update his Facebook by ...  \n",
              "2         mattycus  @Kenichan I dived many times for the ball. Man...  \n",
              "3          ElleCTF    my whole body feels itchy and like its on fire   \n",
              "4           Karoli  @nationwideclass no, it's not behaving at all....  "
            ]
          },
          "execution_count": 5,
          "metadata": {},
          "output_type": "execute_result"
        }
      ],
      "source": [
        "df.head(5)"
      ]
    },
    {
      "cell_type": "code",
      "execution_count": 6,
      "metadata": {
        "colab": {
          "base_uri": "https://localhost:8080/"
        },
        "id": "--BLMYtWrwSv",
        "outputId": "337f0036-36a0-4cd0-c1e1-83f617d2fed7"
      },
      "outputs": [
        {
          "name": "stdout",
          "output_type": "stream",
          "text": [
            "Nombre de tweets positifs : 800000\n",
            "Nombre de tweets négatifs : 800000\n",
            "         target         ids                          date      flag  \\\n",
            "1520565       4  2176218858  Mon Jun 15 03:15:25 PDT 2009  NO_QUERY   \n",
            "1196351       4  1984781209  Sun May 31 15:47:46 PDT 2009  NO_QUERY   \n",
            "1024288       4  1883203644  Fri May 22 08:10:30 PDT 2009  NO_QUERY   \n",
            "1071610       4  1966357573  Fri May 29 17:37:07 PDT 2009  NO_QUERY   \n",
            "944880        4  1795854860  Thu May 14 08:28:58 PDT 2009  NO_QUERY   \n",
            "...         ...         ...                           ...       ...   \n",
            "38269         0  1573224495  Tue Apr 21 00:13:24 PDT 2009  NO_QUERY   \n",
            "750658        0  2285738199  Mon Jun 22 15:30:58 PDT 2009  NO_QUERY   \n",
            "316006        0  2002315311  Tue Jun 02 03:51:01 PDT 2009  NO_QUERY   \n",
            "766801        0  2300103415  Tue Jun 23 13:44:12 PDT 2009  NO_QUERY   \n",
            "248405        0  1982702969  Sun May 31 11:44:08 PDT 2009  NO_QUERY   \n",
            "\n",
            "                   user                                               text  \n",
            "1520565          Skehal  @ferkle aye I put a holding deposit down on a ...  \n",
            "1196351      bruzevylet  Such a nice lazy day! Can't wait to watch the ...  \n",
            "1024288  KatyCaptivated  tonight the girls and me r going out for greek...  \n",
            "1071610        iAsaddah  I hate when I write something on twitter &amp;...  \n",
            "944880     justcourtney  @justbrady ditto that. Feel like an appendage ...  \n",
            "...                 ...                                                ...  \n",
            "38269         KINGmoney  @whoremydior lmao I was just playing! I don't ...  \n",
            "750658         JonnyP23  not looking forward for tomorrow  i hate the d...  \n",
            "316006      xplosivedst                        I'm sick....    cough cough  \n",
            "766801         Kaleigh_             @bleedthegabbi home, and not with you   \n",
            "248405      SissyDawnie   Am figuring out no one's reading my tweets....    \n",
            "\n",
            "[100000 rows x 6 columns]\n"
          ]
        }
      ],
      "source": [
        "# Filtrer les tweets positifs, négatifs et neutres\n",
        "positifs = df.loc[df['target'] == 4]\n",
        "negatifs = df.loc[df['target'] == 0]\n",
        "\n",
        "\n",
        "# Vérifier le nombre de tweets dans chaque catégorie\n",
        "print(f\"Nombre de tweets positifs : {len(positifs)}\")\n",
        "print(f\"Nombre de tweets négatifs : {len(negatifs)}\")\n",
        "\n",
        "# Déterminer la taille d'échantillon disponible pour chaque catégorie\n",
        "taille_echantillon = 50000\n",
        "\n",
        "# Prendre l'échantillon si suffisamment de données sont disponibles\n",
        "if taille_echantillon > 0:\n",
        "    echantillon_positifs = positifs.sample(taille_echantillon)\n",
        "    echantillon_negatifs = negatifs.sample(taille_echantillon)\n",
        "\n",
        "    # Combiner les trois échantillons\n",
        "    df = pd.concat([echantillon_positifs, echantillon_negatifs])\n",
        "\n",
        "    # Afficher l'échantillon\n",
        "    print(df)\n",
        "else:\n",
        "    print(\"Pas assez de tweets positifs, négatifs ou neutres disponibles pour créer un échantillon.\")"
      ]
    },
    {
      "cell_type": "code",
      "execution_count": 7,
      "metadata": {
        "id": "f1lt9Q1ArwSv"
      },
      "outputs": [],
      "source": [
        "decode_map = {0: \"NEGATIVE\", 2: \"NEUTRAL\", 4: \"POSITIVE\"}\n",
        "def decode_sentiment(label):\n",
        "    return decode_map[int(label)]"
      ]
    },
    {
      "cell_type": "code",
      "execution_count": 8,
      "metadata": {
        "colab": {
          "base_uri": "https://localhost:8080/"
        },
        "id": "Iz7kJlTbrwSv",
        "outputId": "5e859d0a-b45f-4cc0-fd1d-a57ceac3f88a"
      },
      "outputs": [
        {
          "name": "stdout",
          "output_type": "stream",
          "text": [
            "CPU times: user 11.8 ms, sys: 1.42 ms, total: 13.2 ms\n",
            "Wall time: 12.7 ms\n"
          ]
        }
      ],
      "source": [
        "%%time\n",
        "df.target = df.target.apply(lambda x: decode_sentiment(x))"
      ]
    },
    {
      "cell_type": "code",
      "execution_count": 9,
      "metadata": {
        "colab": {
          "base_uri": "https://localhost:8080/",
          "height": 717
        },
        "id": "NFUtsy_3rwSv",
        "outputId": "27ba4bc0-dda4-4e3d-92bf-0bee16b26674"
      },
      "outputs": [
        {
          "data": {
            "text/plain": [
              "Text(0.5, 1.0, 'Dataset labels distribuition')"
            ]
          },
          "execution_count": 9,
          "metadata": {},
          "output_type": "execute_result"
        },
        {
          "data": {
            "image/png": "[encoded data removed]",
            "text/plain": [
              "<Figure size 1600x800 with 1 Axes>"
            ]
          },
          "metadata": {},
          "output_type": "display_data"
        }
      ],
      "source": [
        "target_cnt = Counter(df.target)\n",
        "\n",
        "plt.figure(figsize=(16,8))\n",
        "plt.bar(target_cnt.keys(), target_cnt.values())\n",
        "plt.title(\"Dataset labels distribuition\")"
      ]
    },
    {
      "cell_type": "code",
      "execution_count": 10,
      "metadata": {
        "colab": {
          "base_uri": "https://localhost:8080/"
        },
        "id": "UiqCtwOCrwSv",
        "outputId": "8e0e1820-86b7-4c0b-d981-ce297add2e6b"
      },
      "outputs": [
        {
          "name": "stderr",
          "output_type": "stream",
          "text": [
            "[nltk_data] Downloading package stopwords to /Users/Apple/nltk_data...\n",
            "[nltk_data]   Package stopwords is already up-to-date!\n"
          ]
        }
      ],
      "source": [
        "# nltk\n",
        "import nltk\n",
        "\n",
        "# Download the stopwords corpus\n",
        "nltk.download('stopwords')\n",
        "\n",
        "from nltk.corpus import stopwords\n",
        "from  nltk.stem import SnowballStemmer\n",
        "\n",
        "stop_words = stopwords.words(\"english\")\n",
        "stemmer = SnowballStemmer(\"english\")"
      ]
    },
    {
      "cell_type": "code",
      "execution_count": 11,
      "metadata": {
        "id": "45GSGMW7rwSv"
      },
      "outputs": [],
      "source": [
        "def preprocess(text, stem=False):\n",
        "    # Remove link,user and special characters\n",
        "    text = re.sub(TEXT_CLEANING_RE, ' ', str(text).lower()).strip()\n",
        "    tokens = []\n",
        "    for token in text.split():\n",
        "        if token not in stop_words:\n",
        "            if stem:\n",
        "                tokens.append(stemmer.stem(token))\n",
        "            else:\n",
        "                tokens.append(token)\n",
        "    return \" \".join(tokens)"
      ]
    },
    {
      "cell_type": "code",
      "execution_count": 12,
      "metadata": {
        "colab": {
          "base_uri": "https://localhost:8080/"
        },
        "id": "-fPo2QwSrwSv",
        "outputId": "dae45bae-28a1-402f-b41e-2536b227cec2"
      },
      "outputs": [
        {
          "name": "stdout",
          "output_type": "stream",
          "text": [
            "CPU times: user 1.53 s, sys: 8.78 ms, total: 1.54 s\n",
            "Wall time: 1.54 s\n"
          ]
        }
      ],
      "source": [
        "%%time\n",
        "df.text = df.text.apply(lambda x: preprocess(x))"
      ]
    },
    {
      "cell_type": "code",
      "execution_count": 13,
      "metadata": {
        "colab": {
          "base_uri": "https://localhost:8080/"
        },
        "id": "zg0BjkMErwSv",
        "outputId": "b74493cb-260b-4726-d621-aa6ccc0eb358"
      },
      "outputs": [
        {
          "name": "stdout",
          "output_type": "stream",
          "text": [
            "TRAIN size: 80000\n",
            "TEST size: 20000\n"
          ]
        }
      ],
      "source": [
        "df_train, df_test = train_test_split(df, test_size=1-TRAIN_SIZE, random_state=42)\n",
        "print(\"TRAIN size:\", len(df_train))\n",
        "print(\"TEST size:\", len(df_test))"
      ]
    },
    {
      "cell_type": "code",
      "execution_count": 14,
      "metadata": {
        "colab": {
          "base_uri": "https://localhost:8080/"
        },
        "id": "0c713rXgrwSv",
        "outputId": "e184e688-0063-4f27-9bda-070df3725adf"
      },
      "outputs": [
        {
          "name": "stdout",
          "output_type": "stream",
          "text": [
            "CPU times: user 95.1 ms, sys: 5.56 ms, total: 101 ms\n",
            "Wall time: 99.8 ms\n"
          ]
        }
      ],
      "source": [
        "%%time\n",
        "documents = [_text.split() for _text in df_train.text]"
      ]
    },
    {
      "cell_type": "code",
      "execution_count": 15,
      "metadata": {
        "id": "FvfCIb8trwSw"
      },
      "outputs": [
        {
          "name": "stderr",
          "output_type": "stream",
          "text": [
            "2024-09-16 13:54:40,541 : INFO : Word2Vec lifecycle event {'params': 'Word2Vec<vocab=0, vector_size=300, alpha=0.025>', 'datetime': '2024-09-16T13:54:40.541525', 'gensim': '4.3.3', 'python': '3.12.5 (v3.12.5:ff3bc82f7c9, Aug  7 2024, 05:32:06) [Clang 13.0.0 (clang-1300.0.29.30)]', 'platform': 'macOS-14.0-arm64-arm-64bit', 'event': 'created'}\n"
          ]
        }
      ],
      "source": [
        "w2v_model = gensim.models.word2vec.Word2Vec(vector_size=W2V_SIZE,\n",
        "                                            window=W2V_WINDOW,\n",
        "                                            min_count=W2V_MIN_COUNT,\n",
        "                                            workers=8)\n"
      ]
    },
    {
      "cell_type": "code",
      "execution_count": 16,
      "metadata": {
        "id": "_KmxdWtGrwSw"
      },
      "outputs": [
        {
          "name": "stderr",
          "output_type": "stream",
          "text": [
            "2024-09-16 13:54:40,545 : INFO : collecting all words and their counts\n",
            "2024-09-16 13:54:40,546 : INFO : PROGRESS: at sentence #0, processed 0 words, keeping 0 word types\n",
            "2024-09-16 13:54:40,553 : INFO : PROGRESS: at sentence #10000, processed 71841 words, keeping 13730 word types\n",
            "2024-09-16 13:54:40,561 : INFO : PROGRESS: at sentence #20000, processed 143526 words, keeping 21139 word types\n",
            "2024-09-16 13:54:40,569 : INFO : PROGRESS: at sentence #30000, processed 215373 words, keeping 27361 word types\n",
            "2024-09-16 13:54:40,577 : INFO : PROGRESS: at sentence #40000, processed 287632 words, keeping 32785 word types\n",
            "2024-09-16 13:54:40,586 : INFO : PROGRESS: at sentence #50000, processed 360152 words, keeping 37591 word types\n",
            "2024-09-16 13:54:40,595 : INFO : PROGRESS: at sentence #60000, processed 432278 words, keeping 41974 word types\n",
            "2024-09-16 13:54:40,604 : INFO : PROGRESS: at sentence #70000, processed 504675 words, keeping 46389 word types\n",
            "2024-09-16 13:54:40,612 : INFO : collected 50408 word types from a corpus of 577104 raw words and 80000 sentences\n",
            "2024-09-16 13:54:40,613 : INFO : Creating a fresh vocabulary\n",
            "2024-09-16 13:54:40,623 : INFO : Word2Vec lifecycle event {'msg': 'effective_min_count=10 retains 5427 unique words (10.77% of original 50408, drops 44981)', 'datetime': '2024-09-16T13:54:40.623959', 'gensim': '4.3.3', 'python': '3.12.5 (v3.12.5:ff3bc82f7c9, Aug  7 2024, 05:32:06) [Clang 13.0.0 (clang-1300.0.29.30)]', 'platform': 'macOS-14.0-arm64-arm-64bit', 'event': 'prepare_vocab'}\n",
            "2024-09-16 13:54:40,624 : INFO : Word2Vec lifecycle event {'msg': 'effective_min_count=10 leaves 494694 word corpus (85.72% of original 577104, drops 82410)', 'datetime': '2024-09-16T13:54:40.624400', 'gensim': '4.3.3', 'python': '3.12.5 (v3.12.5:ff3bc82f7c9, Aug  7 2024, 05:32:06) [Clang 13.0.0 (clang-1300.0.29.30)]', 'platform': 'macOS-14.0-arm64-arm-64bit', 'event': 'prepare_vocab'}\n",
            "2024-09-16 13:54:40,634 : INFO : deleting the raw counts dictionary of 50408 items\n",
            "2024-09-16 13:54:40,635 : INFO : sample=0.001 downsamples 53 most-common words\n",
            "2024-09-16 13:54:40,635 : INFO : Word2Vec lifecycle event {'msg': 'downsampling leaves estimated 454250.42244243366 word corpus (91.8%% of prior 494694)', 'datetime': '2024-09-16T13:54:40.635656', 'gensim': '4.3.3', 'python': '3.12.5 (v3.12.5:ff3bc82f7c9, Aug  7 2024, 05:32:06) [Clang 13.0.0 (clang-1300.0.29.30)]', 'platform': 'macOS-14.0-arm64-arm-64bit', 'event': 'prepare_vocab'}\n",
            "2024-09-16 13:54:40,651 : INFO : estimated required memory for 5427 words and 300 dimensions: 15738300 bytes\n",
            "2024-09-16 13:54:40,652 : INFO : resetting layer weights\n",
            "2024-09-16 13:54:40,657 : INFO : Word2Vec lifecycle event {'update': False, 'trim_rule': 'None', 'datetime': '2024-09-16T13:54:40.657403', 'gensim': '4.3.3', 'python': '3.12.5 (v3.12.5:ff3bc82f7c9, Aug  7 2024, 05:32:06) [Clang 13.0.0 (clang-1300.0.29.30)]', 'platform': 'macOS-14.0-arm64-arm-64bit', 'event': 'build_vocab'}\n"
          ]
        }
      ],
      "source": [
        "w2v_model.build_vocab(documents)"
      ]
    },
    {
      "cell_type": "code",
      "execution_count": 17,
      "metadata": {
        "colab": {
          "base_uri": "https://localhost:8080/"
        },
        "id": "AAqjkdQvrwSw",
        "outputId": "47cf0771-1fdd-4dc9-8f8e-7285151a0213"
      },
      "outputs": [
        {
          "name": "stdout",
          "output_type": "stream",
          "text": [
            "Vocab size 5427\n"
          ]
        }
      ],
      "source": [
        "words = list(w2v_model.wv.index_to_key)\n",
        "vocab_size = len(words)\n",
        "print(\"Vocab size\", vocab_size)\n"
      ]
    },
    {
      "cell_type": "code",
      "execution_count": 18,
      "metadata": {
        "colab": {
          "base_uri": "https://localhost:8080/"
        },
        "id": "vBdSonolrwSw",
        "outputId": "fa308a5b-c5b3-4257-947a-4b16f908a6a2"
      },
      "outputs": [
        {
          "name": "stderr",
          "output_type": "stream",
          "text": [
            "2024-09-16 13:54:40,665 : INFO : Word2Vec lifecycle event {'msg': 'training model with 8 workers on 5427 vocabulary and 300 features, using sg=0 hs=0 sample=0.001 negative=5 window=7 shrink_windows=True', 'datetime': '2024-09-16T13:54:40.665051', 'gensim': '4.3.3', 'python': '3.12.5 (v3.12.5:ff3bc82f7c9, Aug  7 2024, 05:32:06) [Clang 13.0.0 (clang-1300.0.29.30)]', 'platform': 'macOS-14.0-arm64-arm-64bit', 'event': 'train'}\n",
            "2024-09-16 13:54:40,961 : INFO : EPOCH 0: training on 577104 raw words (453885 effective words) took 0.3s, 1586912 effective words/s\n",
            "2024-09-16 13:54:41,236 : INFO : EPOCH 1: training on 577104 raw words (454091 effective words) took 0.3s, 1707719 effective words/s\n",
            "2024-09-16 13:54:41,513 : INFO : EPOCH 2: training on 577104 raw words (454269 effective words) took 0.3s, 1697496 effective words/s\n",
            "2024-09-16 13:54:41,791 : INFO : EPOCH 3: training on 577104 raw words (454118 effective words) took 0.3s, 1701557 effective words/s\n",
            "2024-09-16 13:54:42,054 : INFO : EPOCH 4: training on 577104 raw words (454396 effective words) took 0.3s, 1790049 effective words/s\n",
            "2024-09-16 13:54:42,332 : INFO : EPOCH 5: training on 577104 raw words (454354 effective words) took 0.3s, 1691792 effective words/s\n",
            "2024-09-16 13:54:42,590 : INFO : EPOCH 6: training on 577104 raw words (454160 effective words) took 0.2s, 1827149 effective words/s\n",
            "2024-09-16 13:54:42,849 : INFO : EPOCH 7: training on 577104 raw words (454314 effective words) took 0.3s, 1801371 effective words/s\n",
            "2024-09-16 13:54:43,111 : INFO : EPOCH 8: training on 577104 raw words (454541 effective words) took 0.3s, 1797002 effective words/s\n",
            "2024-09-16 13:54:43,387 : INFO : EPOCH 9: training on 577104 raw words (454279 effective words) took 0.3s, 1705397 effective words/s\n",
            "2024-09-16 13:54:43,687 : INFO : EPOCH 10: training on 577104 raw words (454074 effective words) took 0.3s, 1547123 effective words/s\n",
            "2024-09-16 13:54:43,974 : INFO : EPOCH 11: training on 577104 raw words (454102 effective words) took 0.3s, 1638962 effective words/s\n",
            "2024-09-16 13:54:44,275 : INFO : EPOCH 12: training on 577104 raw words (453932 effective words) took 0.3s, 1556036 effective words/s\n",
            "2024-09-16 13:54:44,578 : INFO : EPOCH 13: training on 577104 raw words (454399 effective words) took 0.3s, 1547433 effective words/s\n",
            "2024-09-16 13:54:44,857 : INFO : EPOCH 14: training on 577104 raw words (454607 effective words) took 0.3s, 1669614 effective words/s\n",
            "2024-09-16 13:54:45,223 : INFO : EPOCH 15: training on 577104 raw words (454269 effective words) took 0.4s, 1274057 effective words/s\n",
            "2024-09-16 13:54:45,496 : INFO : EPOCH 16: training on 577104 raw words (454455 effective words) took 0.3s, 1722059 effective words/s\n",
            "2024-09-16 13:54:45,773 : INFO : EPOCH 17: training on 577104 raw words (454237 effective words) took 0.3s, 1687689 effective words/s\n",
            "2024-09-16 13:54:46,160 : INFO : EPOCH 18: training on 577104 raw words (454162 effective words) took 0.4s, 1199688 effective words/s\n",
            "2024-09-16 13:54:46,481 : INFO : EPOCH 19: training on 577104 raw words (454339 effective words) took 0.3s, 1449418 effective words/s\n",
            "2024-09-16 13:54:46,799 : INFO : EPOCH 20: training on 577104 raw words (454290 effective words) took 0.3s, 1469224 effective words/s\n",
            "2024-09-16 13:54:47,071 : INFO : EPOCH 21: training on 577104 raw words (454181 effective words) took 0.3s, 1741260 effective words/s\n",
            "2024-09-16 13:54:47,421 : INFO : EPOCH 22: training on 577104 raw words (454208 effective words) took 0.3s, 1350523 effective words/s\n",
            "2024-09-16 13:54:47,695 : INFO : EPOCH 23: training on 577104 raw words (454294 effective words) took 0.3s, 1718048 effective words/s\n",
            "2024-09-16 13:54:47,966 : INFO : EPOCH 24: training on 577104 raw words (454359 effective words) took 0.3s, 1728449 effective words/s\n",
            "2024-09-16 13:54:48,261 : INFO : EPOCH 25: training on 577104 raw words (454278 effective words) took 0.3s, 1592925 effective words/s\n",
            "2024-09-16 13:54:48,546 : INFO : EPOCH 26: training on 577104 raw words (454199 effective words) took 0.3s, 1648304 effective words/s\n",
            "2024-09-16 13:54:48,806 : INFO : EPOCH 27: training on 577104 raw words (454060 effective words) took 0.3s, 1811349 effective words/s\n",
            "2024-09-16 13:54:49,071 : INFO : EPOCH 28: training on 577104 raw words (454161 effective words) took 0.3s, 1777407 effective words/s\n",
            "2024-09-16 13:54:49,332 : INFO : EPOCH 29: training on 577104 raw words (454035 effective words) took 0.3s, 1806616 effective words/s\n",
            "2024-09-16 13:54:49,603 : INFO : EPOCH 30: training on 577104 raw words (454077 effective words) took 0.3s, 1733532 effective words/s\n",
            "2024-09-16 13:54:49,859 : INFO : EPOCH 31: training on 577104 raw words (454237 effective words) took 0.2s, 1842747 effective words/s\n",
            "2024-09-16 13:54:49,859 : INFO : Word2Vec lifecycle event {'msg': 'training on 18467328 raw words (14535362 effective words) took 9.2s, 1580843 effective words/s', 'datetime': '2024-09-16T13:54:49.859900', 'gensim': '4.3.3', 'python': '3.12.5 (v3.12.5:ff3bc82f7c9, Aug  7 2024, 05:32:06) [Clang 13.0.0 (clang-1300.0.29.30)]', 'platform': 'macOS-14.0-arm64-arm-64bit', 'event': 'train'}\n"
          ]
        },
        {
          "name": "stdout",
          "output_type": "stream",
          "text": [
            "CPU times: user 40.4 s, sys: 519 ms, total: 41 s\n",
            "Wall time: 9.2 s\n"
          ]
        },
        {
          "data": {
            "text/plain": [
              "(14535362, 18467328)"
            ]
          },
          "execution_count": 18,
          "metadata": {},
          "output_type": "execute_result"
        }
      ],
      "source": [
        "%%time\n",
        "w2v_model.train(documents, total_examples=len(documents), epochs=W2V_EPOCH)"
      ]
    },
    {
      "cell_type": "code",
      "execution_count": 19,
      "metadata": {
        "colab": {
          "base_uri": "https://localhost:8080/"
        },
        "id": "XgzU7JuZrwSw",
        "outputId": "b5214335-acd7-4889-b9dc-31a22733ba1b"
      },
      "outputs": [
        {
          "data": {
            "text/plain": [
              "[('luv', 0.4775572121143341),\n",
              " ('loved', 0.37799808382987976),\n",
              " ('musso', 0.3678953945636749),\n",
              " ('miley', 0.35924646258354187),\n",
              " ('christina', 0.35590729117393494),\n",
              " ('adore', 0.3544003665447235),\n",
              " ('chatting', 0.33568698167800903),\n",
              " ('brazil', 0.3336430490016937),\n",
              " ('looove', 0.3277340531349182),\n",
              " ('loves', 0.32678669691085815)]"
            ]
          },
          "execution_count": 19,
          "metadata": {},
          "output_type": "execute_result"
        }
      ],
      "source": [
        "w2v_model.wv.most_similar(\"love\")"
      ]
    },
    {
      "cell_type": "code",
      "execution_count": 20,
      "metadata": {
        "colab": {
          "base_uri": "https://localhost:8080/"
        },
        "id": "06dZG6xTrwSw",
        "outputId": "f5b06aa2-e90d-4a7c-d302-2ad0847d641a"
      },
      "outputs": [
        {
          "name": "stdout",
          "output_type": "stream",
          "text": [
            "Total words 50409\n",
            "CPU times: user 1.41 s, sys: 823 ms, total: 2.24 s\n",
            "Wall time: 661 ms\n"
          ]
        }
      ],
      "source": [
        "%%time\n",
        "tokenizer = Tokenizer()\n",
        "tokenizer.fit_on_texts(df_train.text)\n",
        "\n",
        "vocab_size = len(tokenizer.word_index) + 1\n",
        "print(\"Total words\", vocab_size)"
      ]
    },
    {
      "cell_type": "code",
      "execution_count": 21,
      "metadata": {
        "colab": {
          "base_uri": "https://localhost:8080/"
        },
        "id": "mFIBcBlGrwSw",
        "outputId": "f5042a25-f0a5-4ce1-b63c-53f6ec8f0fc9"
      },
      "outputs": [
        {
          "name": "stdout",
          "output_type": "stream",
          "text": [
            "CPU times: user 673 ms, sys: 15 ms, total: 688 ms\n",
            "Wall time: 689 ms\n"
          ]
        }
      ],
      "source": [
        "%%time\n",
        "x_train = pad_sequences(tokenizer.texts_to_sequences(df_train.text), maxlen=SEQUENCE_LENGTH)\n",
        "x_test = pad_sequences(tokenizer.texts_to_sequences(df_test.text), maxlen=SEQUENCE_LENGTH)"
      ]
    },
    {
      "cell_type": "code",
      "execution_count": 22,
      "metadata": {
        "colab": {
          "base_uri": "https://localhost:8080/"
        },
        "id": "2MG3dqaorwSw",
        "outputId": "b8b0f858-23c9-4c37-ff40-8eb044b3d288"
      },
      "outputs": [
        {
          "data": {
            "text/plain": [
              "['NEGATIVE', 'POSITIVE', 'NEUTRAL']"
            ]
          },
          "execution_count": 22,
          "metadata": {},
          "output_type": "execute_result"
        }
      ],
      "source": [
        "labels = df_train.target.unique().tolist()\n",
        "labels.append(NEUTRAL)\n",
        "labels"
      ]
    },
    {
      "cell_type": "code",
      "execution_count": 23,
      "metadata": {
        "colab": {
          "base_uri": "https://localhost:8080/"
        },
        "id": "8ljdCJA8rwSw",
        "outputId": "b41e0553-5195-45ff-bad4-440d1da1ffc8"
      },
      "outputs": [
        {
          "name": "stdout",
          "output_type": "stream",
          "text": [
            "y_train (80000, 1)\n",
            "y_test (20000, 1)\n"
          ]
        }
      ],
      "source": [
        "encoder = LabelEncoder()\n",
        "encoder.fit(df_train.target.tolist())\n",
        "\n",
        "y_train = encoder.transform(df_train.target.tolist())\n",
        "y_test = encoder.transform(df_test.target.tolist())\n",
        "\n",
        "y_train = y_train.reshape(-1,1)\n",
        "y_test = y_test.reshape(-1,1)\n",
        "\n",
        "print(\"y_train\",y_train.shape)\n",
        "print(\"y_test\",y_test.shape)"
      ]
    },
    {
      "cell_type": "code",
      "execution_count": 24,
      "metadata": {
        "colab": {
          "base_uri": "https://localhost:8080/"
        },
        "id": "lMjOJE80rwSw",
        "outputId": "1ae8ea8a-9ad4-4b47-a10e-6dc002271e8c"
      },
      "outputs": [
        {
          "name": "stdout",
          "output_type": "stream",
          "text": [
            "x_train (80000, 300)\n",
            "y_train (80000, 1)\n",
            "\n",
            "x_test (20000, 300)\n",
            "y_test (20000, 1)\n"
          ]
        }
      ],
      "source": [
        "print(\"x_train\", x_train.shape)\n",
        "print(\"y_train\", y_train.shape)\n",
        "print()\n",
        "print(\"x_test\", x_test.shape)\n",
        "print(\"y_test\", y_test.shape)"
      ]
    },
    {
      "cell_type": "code",
      "execution_count": 25,
      "metadata": {
        "colab": {
          "base_uri": "https://localhost:8080/"
        },
        "id": "59MppoxcrwSw",
        "outputId": "b0c313a1-caa6-4493-afde-6099303df2bd"
      },
      "outputs": [
        {
          "data": {
            "text/plain": [
              "array([[0],\n",
              "       [1],\n",
              "       [1],\n",
              "       [1],\n",
              "       [0],\n",
              "       [0],\n",
              "       [0],\n",
              "       [1],\n",
              "       [0],\n",
              "       [1]])"
            ]
          },
          "execution_count": 25,
          "metadata": {},
          "output_type": "execute_result"
        }
      ],
      "source": [
        "y_train[:10]"
      ]
    },
    {
      "cell_type": "code",
      "execution_count": 26,
      "metadata": {
        "colab": {
          "base_uri": "https://localhost:8080/"
        },
        "id": "75uF_95grwSw",
        "outputId": "395e756c-3618-4675-b850-3d6c8db6a94a"
      },
      "outputs": [
        {
          "name": "stdout",
          "output_type": "stream",
          "text": [
            "(50409, 300)\n"
          ]
        }
      ],
      "source": [
        "embedding_matrix = np.zeros((vocab_size, W2V_SIZE))\n",
        "for word, i in tokenizer.word_index.items():\n",
        "  if word in w2v_model.wv:\n",
        "    embedding_matrix[i] = w2v_model.wv[word]\n",
        "print(embedding_matrix.shape)"
      ]
    },
    {
      "cell_type": "code",
      "execution_count": 27,
      "metadata": {
        "colab": {
          "base_uri": "https://localhost:8080/"
        },
        "id": "mBx1VpQtrwSw",
        "outputId": "6dcd878e-10b3-40ff-f515-cf423ce97adc"
      },
      "outputs": [
        {
          "name": "stderr",
          "output_type": "stream",
          "text": [
            "/Library/Frameworks/Python.framework/Versions/3.12/lib/python3.12/site-packages/keras/src/layers/core/embedding.py:90: UserWarning: Argument `input_length` is deprecated. Just remove it.\n",
            "  warnings.warn(\n"
          ]
        }
      ],
      "source": [
        "embedding_layer = Embedding(vocab_size, W2V_SIZE, weights=[embedding_matrix], input_length=SEQUENCE_LENGTH, trainable=False)"
      ]
    },
    {
      "cell_type": "code",
      "execution_count": 28,
      "metadata": {
        "colab": {
          "base_uri": "https://localhost:8080/",
          "height": 265
        },
        "id": "EJKRgQn-rwSw",
        "outputId": "df9ef28a-b3d5-4463-f0bb-6fad3045471c"
      },
      "outputs": [
        {
          "data": {
            "text/html": [
              "<pre style=\"white-space:pre;overflow-x:auto;line-height:normal;font-family:Menlo,'DejaVu Sans Mono',consolas,'Courier New',monospace\"><span style=\"font-weight: bold\">Model: \"sequential\"</span>\n",
              "</pre>\n"
            ],
            "text/plain": [
              "\u001b[1mModel: \"sequential\"\u001b[0m\n"
            ]
          },
          "metadata": {},
          "output_type": "display_data"
        },
        {
          "data": {
            "text/html": [
              "<pre style=\"white-space:pre;overflow-x:auto;line-height:normal;font-family:Menlo,'DejaVu Sans Mono',consolas,'Courier New',monospace\">┏━━━━━━━━━━━━━━━━━━━━━━━━━━━━━━━━━┳━━━━━━━━━━━━━━━━━━━━━━━━┳━━━━━━━━━━━━━━━┓\n",
              "┃<span style=\"font-weight: bold\"> Layer (type)                    </span>┃<span style=\"font-weight: bold\"> Output Shape           </span>┃<span style=\"font-weight: bold\">       Param # </span>┃\n",
              "┡━━━━━━━━━━━━━━━━━━━━━━━━━━━━━━━━━╇━━━━━━━━━━━━━━━━━━━━━━━━╇━━━━━━━━━━━━━━━┩\n",
              "│ embedding (<span style=\"color: #0087ff; text-decoration-color: #0087ff\">Embedding</span>)           │ ?                      │    <span style=\"color: #00af00; text-decoration-color: #00af00\">15,122,700</span> │\n",
              "├─────────────────────────────────┼────────────────────────┼───────────────┤\n",
              "│ dropout (<span style=\"color: #0087ff; text-decoration-color: #0087ff\">Dropout</span>)               │ ?                      │   <span style=\"color: #00af00; text-decoration-color: #00af00\">0</span> (unbuilt) │\n",
              "├─────────────────────────────────┼────────────────────────┼───────────────┤\n",
              "│ lstm (<span style=\"color: #0087ff; text-decoration-color: #0087ff\">LSTM</span>)                     │ ?                      │   <span style=\"color: #00af00; text-decoration-color: #00af00\">0</span> (unbuilt) │\n",
              "├─────────────────────────────────┼────────────────────────┼───────────────┤\n",
              "│ dense (<span style=\"color: #0087ff; text-decoration-color: #0087ff\">Dense</span>)                   │ ?                      │   <span style=\"color: #00af00; text-decoration-color: #00af00\">0</span> (unbuilt) │\n",
              "└─────────────────────────────────┴────────────────────────┴───────────────┘\n",
              "</pre>\n"
            ],
            "text/plain": [
              "┏━━━━━━━━━━━━━━━━━━━━━━━━━━━━━━━━━┳━━━━━━━━━━━━━━━━━━━━━━━━┳━━━━━━━━━━━━━━━┓\n",
              "┃\u001b[1m \u001b[0m\u001b[1mLayer (type)                   \u001b[0m\u001b[1m \u001b[0m┃\u001b[1m \u001b[0m\u001b[1mOutput Shape          \u001b[0m\u001b[1m \u001b[0m┃\u001b[1m \u001b[0m\u001b[1m      Param #\u001b[0m\u001b[1m \u001b[0m┃\n",
              "┡━━━━━━━━━━━━━━━━━━━━━━━━━━━━━━━━━╇━━━━━━━━━━━━━━━━━━━━━━━━╇━━━━━━━━━━━━━━━┩\n",
              "│ embedding (\u001b[38;5;33mEmbedding\u001b[0m)           │ ?                      │    \u001b[38;5;34m15,122,700\u001b[0m │\n",
              "├─────────────────────────────────┼────────────────────────┼───────────────┤\n",
              "│ dropout (\u001b[38;5;33mDropout\u001b[0m)               │ ?                      │   \u001b[38;5;34m0\u001b[0m (unbuilt) │\n",
              "├─────────────────────────────────┼────────────────────────┼───────────────┤\n",
              "│ lstm (\u001b[38;5;33mLSTM\u001b[0m)                     │ ?                      │   \u001b[38;5;34m0\u001b[0m (unbuilt) │\n",
              "├─────────────────────────────────┼────────────────────────┼───────────────┤\n",
              "│ dense (\u001b[38;5;33mDense\u001b[0m)                   │ ?                      │   \u001b[38;5;34m0\u001b[0m (unbuilt) │\n",
              "└─────────────────────────────────┴────────────────────────┴───────────────┘\n"
            ]
          },
          "metadata": {},
          "output_type": "display_data"
        },
        {
          "data": {
            "text/html": [
              "<pre style=\"white-space:pre;overflow-x:auto;line-height:normal;font-family:Menlo,'DejaVu Sans Mono',consolas,'Courier New',monospace\"><span style=\"font-weight: bold\"> Total params: </span><span style=\"color: #00af00; text-decoration-color: #00af00\">15,122,700</span> (57.69 MB)\n",
              "</pre>\n"
            ],
            "text/plain": [
              "\u001b[1m Total params: \u001b[0m\u001b[38;5;34m15,122,700\u001b[0m (57.69 MB)\n"
            ]
          },
          "metadata": {},
          "output_type": "display_data"
        },
        {
          "data": {
            "text/html": [
              "<pre style=\"white-space:pre;overflow-x:auto;line-height:normal;font-family:Menlo,'DejaVu Sans Mono',consolas,'Courier New',monospace\"><span style=\"font-weight: bold\"> Trainable params: </span><span style=\"color: #00af00; text-decoration-color: #00af00\">0</span> (0.00 B)\n",
              "</pre>\n"
            ],
            "text/plain": [
              "\u001b[1m Trainable params: \u001b[0m\u001b[38;5;34m0\u001b[0m (0.00 B)\n"
            ]
          },
          "metadata": {},
          "output_type": "display_data"
        },
        {
          "data": {
            "text/html": [
              "<pre style=\"white-space:pre;overflow-x:auto;line-height:normal;font-family:Menlo,'DejaVu Sans Mono',consolas,'Courier New',monospace\"><span style=\"font-weight: bold\"> Non-trainable params: </span><span style=\"color: #00af00; text-decoration-color: #00af00\">15,122,700</span> (57.69 MB)\n",
              "</pre>\n"
            ],
            "text/plain": [
              "\u001b[1m Non-trainable params: \u001b[0m\u001b[38;5;34m15,122,700\u001b[0m (57.69 MB)\n"
            ]
          },
          "metadata": {},
          "output_type": "display_data"
        }
      ],
      "source": [
        "model = Sequential()\n",
        "model.add(embedding_layer)\n",
        "model.add(Dropout(0.5))\n",
        "model.add(LSTM(100, dropout=0.2, recurrent_dropout=0.2))\n",
        "model.add(Dense(1, activation='sigmoid'))\n",
        "\n",
        "model.summary()"
      ]
    },
    {
      "cell_type": "code",
      "execution_count": 29,
      "metadata": {
        "id": "eitKmZf4rwSw"
      },
      "outputs": [],
      "source": [
        "model.compile(loss='binary_crossentropy',\n",
        "              optimizer=\"adam\",\n",
        "              metrics=['accuracy'])"
      ]
    },
    {
      "cell_type": "code",
      "execution_count": 30,
      "metadata": {
        "id": "iIbpZO6urwSw"
      },
      "outputs": [],
      "source": [
        "callbacks = [ ReduceLROnPlateau(monitor='val_loss', patience=5, cooldown=0),\n",
        "              EarlyStopping(monitor='val_acc', mode='max', patience=3)]"
      ]
    },
    {
      "cell_type": "code",
      "execution_count": 31,
      "metadata": {
        "colab": {
          "base_uri": "https://localhost:8080/"
        },
        "id": "_s-uA9VsrwSw",
        "outputId": "f69c687f-a23e-46e3-a6b1-403e716cf51d"
      },
      "outputs": [
        {
          "name": "stdout",
          "output_type": "stream",
          "text": [
            "Epoch 1/8\n",
            "\u001b[1m57/71\u001b[0m \u001b[32m━━━━━━━━━━━━━━━━\u001b[0m\u001b[37m━━━━\u001b[0m \u001b[1m19s\u001b[0m 1s/step - accuracy: 0.6537 - loss: 0.6174"
          ]
        }
      ],
      "source": [
        "%%time\n",
        "history = model.fit(x_train, y_train,\n",
        "                    batch_size=BATCH_SIZE,\n",
        "                    epochs=EPOCHS,\n",
        "                    validation_split=0.1,\n",
        "                    verbose=1,\n",
        "                    callbacks=callbacks)"
      ]
    },
    {
      "cell_type": "code",
      "execution_count": null,
      "metadata": {},
      "outputs": [
        {
          "name": "stdout",
          "output_type": "stream",
          "text": [
            "\u001b[1m20/20\u001b[0m \u001b[32m━━━━━━━━━━━━━━━━━━━━\u001b[0m\u001b[37m\u001b[0m \u001b[1m23s\u001b[0m 1s/step - accuracy: 0.7538 - loss: 0.5028\n",
            "\n",
            "ACCURACY: 0.7531999945640564\n",
            "LOSS: 0.5033757090568542\n",
            "CPU times: user 1min 11s, sys: 18.5 s, total: 1min 30s\n",
            "Wall time: 22.8 s\n"
          ]
        }
      ],
      "source": [
        "%%time\n",
        "score = model.evaluate(x_test, y_test, batch_size=BATCH_SIZE)\n",
        "print()\n",
        "print(\"ACCURACY:\",score[1])\n",
        "print(\"LOSS:\",score[0])"
      ]
    },
    {
      "cell_type": "code",
      "execution_count": null,
      "metadata": {},
      "outputs": [
        {
          "data": {
            "image/png": "[encoded data removed]",
            "text/plain": [
              "<Figure size 640x480 with 1 Axes>"
            ]
          },
          "metadata": {},
          "output_type": "display_data"
        },
        {
          "data": {
            "image/png": "[encoded data removed]",
            "text/plain": [
              "<Figure size 640x480 with 1 Axes>"
            ]
          },
          "metadata": {},
          "output_type": "display_data"
        }
      ],
      "source": [
        "acc = history.history.get('acc') or history.history.get('accuracy')\n",
        "val_acc = history.history.get('val_acc') or history.history.get('val_accuracy')\n",
        "loss = history.history['loss']\n",
        "val_loss = history.history['val_loss']\n",
        "\n",
        "epochs = range(len(acc))\n",
        "\n",
        "plt.plot(epochs, acc, 'b', label='Training accuracy')\n",
        "plt.plot(epochs, val_acc, 'r', label='Validation accuracy')\n",
        "plt.title('Training and validation accuracy')\n",
        "plt.legend()\n",
        "\n",
        "plt.figure()\n",
        "\n",
        "plt.plot(epochs, loss, 'b', label='Training loss')\n",
        "plt.plot(epochs, val_loss, 'r', label='Validation loss')\n",
        "plt.title('Training and validation loss')\n",
        "plt.legend()\n",
        "\n",
        "plt.show()\n"
      ]
    },
    {
      "cell_type": "code",
      "execution_count": null,
      "metadata": {},
      "outputs": [],
      "source": [
        "def decode_sentiment(score, include_neutral=True):\n",
        "    if include_neutral:        \n",
        "        label = NEUTRAL\n",
        "        if score <= SENTIMENT_THRESHOLDS[0]:\n",
        "            label = NEGATIVE\n",
        "        elif score >= SENTIMENT_THRESHOLDS[1]:\n",
        "            label = POSITIVE\n",
        "\n",
        "        return label\n",
        "    else:\n",
        "        return NEGATIVE if score < 0.5 else POSITIVE"
      ]
    },
    {
      "cell_type": "code",
      "execution_count": null,
      "metadata": {},
      "outputs": [],
      "source": [
        "def predict(text, include_neutral=True):\n",
        "    start_at = time.time()\n",
        "    # Tokenize text\n",
        "    x_test = pad_sequences(tokenizer.texts_to_sequences([text]), maxlen=SEQUENCE_LENGTH)\n",
        "    # Predict\n",
        "    score = model.predict([x_test])[0]\n",
        "    # Decode sentiment\n",
        "    label = decode_sentiment(score, include_neutral=include_neutral)\n",
        "\n",
        "    return {\"label\": label, \"score\": float(score),\n",
        "       \"elapsed_time\": time.time()-start_at}  "
      ]
    },
    {
      "cell_type": "code",
      "execution_count": null,
      "metadata": {},
      "outputs": [
        {
          "name": "stdout",
          "output_type": "stream",
          "text": [
            "\u001b[1m1/1\u001b[0m \u001b[32m━━━━━━━━━━━━━━━━━━━━\u001b[0m\u001b[37m\u001b[0m \u001b[1m0s\u001b[0m 81ms/step\n"
          ]
        },
        {
          "name": "stderr",
          "output_type": "stream",
          "text": [
            "/var/folders/8b/_wrd0j755cj_xgf04tprxq000000gn/T/ipykernel_20522/1332943948.py:10: DeprecationWarning: Conversion of an array with ndim > 0 to a scalar is deprecated, and will error in future. Ensure you extract a single element from your array before performing this operation. (Deprecated NumPy 1.25.)\n",
            "  return {\"label\": label, \"score\": float(score),\n"
          ]
        },
        {
          "data": {
            "text/plain": [
              "{'label': 'POSITIVE',\n",
              " 'score': 0.9255228042602539,\n",
              " 'elapsed_time': 0.10354804992675781}"
            ]
          },
          "execution_count": 48,
          "metadata": {},
          "output_type": "execute_result"
        }
      ],
      "source": [
        "predict(\"I love sport\")"
      ]
    },
    {
      "cell_type": "code",
      "execution_count": null,
      "metadata": {},
      "outputs": [
        {
          "name": "stdout",
          "output_type": "stream",
          "text": [
            "\u001b[1m1/1\u001b[0m \u001b[32m━━━━━━━━━━━━━━━━━━━━\u001b[0m\u001b[37m\u001b[0m \u001b[1m0s\u001b[0m 33ms/step\n"
          ]
        },
        {
          "name": "stderr",
          "output_type": "stream",
          "text": [
            "/var/folders/8b/_wrd0j755cj_xgf04tprxq000000gn/T/ipykernel_20522/1332943948.py:10: DeprecationWarning: Conversion of an array with ndim > 0 to a scalar is deprecated, and will error in future. Ensure you extract a single element from your array before performing this operation. (Deprecated NumPy 1.25.)\n",
            "  return {\"label\": label, \"score\": float(score),\n"
          ]
        },
        {
          "data": {
            "text/plain": [
              "{'label': 'NEGATIVE',\n",
              " 'score': 0.0036303182132542133,\n",
              " 'elapsed_time': 0.07733702659606934}"
            ]
          },
          "execution_count": 49,
          "metadata": {},
          "output_type": "execute_result"
        }
      ],
      "source": [
        "predict(\"I hate the rain\")"
      ]
    },
    {
      "cell_type": "code",
      "execution_count": null,
      "metadata": {},
      "outputs": [
        {
          "name": "stdout",
          "output_type": "stream",
          "text": [
            "\u001b[1m1/1\u001b[0m \u001b[32m━━━━━━━━━━━━━━━━━━━━\u001b[0m\u001b[37m\u001b[0m \u001b[1m0s\u001b[0m 34ms/step\n"
          ]
        },
        {
          "name": "stderr",
          "output_type": "stream",
          "text": [
            "/var/folders/8b/_wrd0j755cj_xgf04tprxq000000gn/T/ipykernel_20522/1332943948.py:10: DeprecationWarning: Conversion of an array with ndim > 0 to a scalar is deprecated, and will error in future. Ensure you extract a single element from your array before performing this operation. (Deprecated NumPy 1.25.)\n",
            "  return {\"label\": label, \"score\": float(score),\n"
          ]
        },
        {
          "data": {
            "text/plain": [
              "{'label': 'NEUTRAL',\n",
              " 'score': 0.5445519089698792,\n",
              " 'elapsed_time': 0.07122421264648438}"
            ]
          },
          "execution_count": 50,
          "metadata": {},
          "output_type": "execute_result"
        }
      ],
      "source": [
        "predict(\"i don't know what i'm doing\")"
      ]
    }
  ],
  "metadata": {
    "colab": {
      "provenance": []
    },
    "kernelspec": {
      "display_name": "Python 3",
      "language": "python",
      "name": "python3"
    },
    "language_info": {
      "codemirror_mode": {
        "name": "ipython",
        "version": 3
      },
      "file_extension": ".py",
      "mimetype": "text/x-python",
      "name": "python",
      "nbconvert_exporter": "python",
      "pygments_lexer": "ipython3",
      "version": "3.12.5"
    }
  },
  "nbformat": 4,
  "nbformat_minor": 0
}
